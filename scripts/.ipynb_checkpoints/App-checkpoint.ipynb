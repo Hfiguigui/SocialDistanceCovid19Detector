{
 "cells": [
  {
   "cell_type": "code",
   "execution_count": null,
   "id": "234c67e1",
   "metadata": {},
   "outputs": [],
   "source": [
    "import cv2\n",
    "cap = cv2.VideoCapture(\"../videos/peopleWalking.mp4.mp4\")\n",
    "while cap.isOpened():\n",
    "    ret,frame = cap.read()\n",
    "    if ret == True:\n",
    "        cv2.imshow(\"video\",frame)\n",
    "        key = cv2.waitKey(100)\n",
    "        if key ==27:\n",
    "            break\n",
    "    else:\n",
    "        break\n",
    "cv2.destroyAllWindows()\n",
    "cap.release()"
   ]
  },
  {
   "cell_type": "code",
   "execution_count": 11,
   "id": "7fd250ee",
   "metadata": {},
   "outputs": [
    {
     "name": "stdout",
     "output_type": "stream",
     "text": [
      " donner le seuil à respecter : 122\n"
     ]
    }
   ],
   "source": [
    "import cv2\n",
    "import math\n",
    "cap = cv2.VideoCapture('../videos/peopleWalking.mp4')\n",
    "fullBody = cv2.CascadeClassifier('../haar/haarcascade_fullbody.xml')\n",
    "seuil = float(input(' donner le seuil à respecter : '))\n",
    "while cap.isOpened():\n",
    "    ret,frame = cap.read()\n",
    "    if ret == True:\n",
    "        bodies = fullBody.detectMultiScale(frame,1.8,1)\n",
    "        for(x,y,w,h) in bodies:\n",
    "            dis=0\n",
    "            f=False\n",
    "            for(x1,y1,w1,h1) in bodies:\n",
    "                if x!=x1 and y!=y1:\n",
    "                    dis = math.sqrt(((x+w//2)-(x1+w1//2))**2+((y+h//2)-(y1+h//2))**2)\n",
    "                    if dis<seuil:\n",
    "                        f = True\n",
    "                if f :\n",
    "                    cv2.rectangle(frame,(x,y),(x+w,y+w),(0,255,0),2)\n",
    "                else :\n",
    "                    cv2.rectangle(frame,(x,y),(x+w,y+w),(0,0,255),2)\n",
    "        cv2.imshow(\"People Walking\",frame)\n",
    "        if cv2.waitKey(25) == ord('q'):\n",
    "            break\n",
    "    else:\n",
    "        break\n",
    "cv2.destroyAllWindows()\n",
    "cap.release()\n"
   ]
  },
  {
   "cell_type": "code",
   "execution_count": null,
   "id": "ea904403",
   "metadata": {},
   "outputs": [
    {
     "name": "stdout",
     "output_type": "stream",
     "text": [
      "\n",
      " Donner la seuil à respecter :122\n"
     ]
    }
   ],
   "source": [
    "import cv2\n",
    "import math\n",
    "\n",
    "FullBody = cv2.CascadeClassifier(\"../haar/haarcascade_fullbody.xml\")\n",
    "cap = cv2.VideoCapture(\"../videos/peopleWalking.mp4\")\n",
    "seuil = float(input(\"\\n Donner la seuil à respecter :\"))\n",
    "while True:\n",
    "    ret,frame = cap.read()\n",
    "#EXERCICE 2: Detection des personne/\n",
    "    if ret == True:\n",
    "        Bodies = FullBody.detectMulitScale(frame,1.8,1)\n",
    "        for(x,y,w,h) in Bodies:\n",
    "            dis =0\n",
    "            f = False\n",
    "#LES DISTANCE ENTRE CHAQUE couple de personnes \n",
    "            for(x1,y1,x2,y2) in Bodies:\n",
    "                if x!=x1 and y!=y2:\n",
    "                    dis=math.sqrt(((x+w//2)-(x1+w1//2))**2+((y+h//2)-(y1+h//2))**2)\n",
    "                    if dis<seuil:\n",
    "                        f = True\n",
    "                if f:\n",
    "                    cv2.rectangle(frame,(x,y),(x+y,y+h),(0,0,255),2)\n",
    "                else:\n",
    "                    cv2.rectangle(frame,(x,y),(x+y,y+h),(0,255,0),2)\n",
    "            cv2.imshow(\"video\",frame)\n",
    "            if cv2.waitKey(1) == ord('q'):\n",
    "                break\n",
    "            else:\n",
    "                break\n",
    "        \n",
    "cap.release()\n",
    "cv2.destroyAllWindows()\n",
    "                "
   ]
  },
  {
   "cell_type": "code",
   "execution_count": null,
   "id": "5515f107",
   "metadata": {},
   "outputs": [],
   "source": [
    "print(\"hjfhdj\")"
   ]
  },
  {
   "cell_type": "code",
   "execution_count": null,
   "id": "92cba588",
   "metadata": {},
   "outputs": [],
   "source": []
  }
 ],
 "metadata": {
  "kernelspec": {
   "display_name": "Python 3 (ipykernel)",
   "language": "python",
   "name": "python3"
  },
  "language_info": {
   "codemirror_mode": {
    "name": "ipython",
    "version": 3
   },
   "file_extension": ".py",
   "mimetype": "text/x-python",
   "name": "python",
   "nbconvert_exporter": "python",
   "pygments_lexer": "ipython3",
   "version": "3.9.7"
  }
 },
 "nbformat": 4,
 "nbformat_minor": 5
}
