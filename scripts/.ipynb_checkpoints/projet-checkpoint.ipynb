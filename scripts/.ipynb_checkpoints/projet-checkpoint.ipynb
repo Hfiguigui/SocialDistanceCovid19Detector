{
 "cells": [
  {
   "cell_type": "code",
   "execution_count": 1,
   "id": "ac164196",
   "metadata": {},
   "outputs": [],
   "source": [
    "def center(x,y,x2,y2):\n",
    "    centerX= x+ round(((x2-x)/2))\n",
    "    centerY =y+ round((y2-y)/2)\n",
    "    return (centerX,centerY)"
   ]
  },
  {
   "cell_type": "code",
   "execution_count": 2,
   "id": "b1df395b",
   "metadata": {},
   "outputs": [],
   "source": [
    "from math import sqrt\n",
    "def euclidienne(x1,y1,x2,y2):\n",
    "    absX = abs(x1-x2)\n",
    "    absY = abs(y1-y2)\n",
    "    dis = sqrt(absX**2) +sqrt(absY**2)\n",
    "    return dis"
   ]
  },
  {
   "cell_type": "code",
   "execution_count": 3,
   "id": "03552224",
   "metadata": {},
   "outputs": [
    {
     "name": "stdout",
     "output_type": "stream",
     "text": [
      " donner le seuil à respecter : 122\n"
     ]
    }
   ],
   "source": [
    "import cv2\n",
    "import math\n",
    "cap = cv2.VideoCapture('../videos/shoping.mp4')\n",
    "fullBody = cv2.CascadeClassifier('../haar/haarcascade_fullbody.xml')\n",
    "seuil = float(input(' donner le seuil à respecter : '))\n",
    "if not cap.isOpened():\n",
    "    raise IOError(\"Please try another vidfeo !! if this error showed uop, know wether we are not supporting this type of video or this video occurs problems \")\n",
    "    \n",
    "while cap.isOpened():\n",
    "    ret,frame = cap.read()\n",
    "    if ret == True:\n",
    "        bodies = fullBody.detectMultiScale(frame,1.3,1)\n",
    "        for(x,y,w,h) in bodies:\n",
    "            #idPeople +=1\n",
    "            dis=0\n",
    "            zonneAffec = False\n",
    "            for(x1,y1,w1,h1) in bodies:\n",
    "                if x!=x1 and y!=y1:\n",
    "                    cv2.circle(frame,(x+int(w/2),y+int(h/2)),3,(255,0,0),3)\n",
    "                    X_Center,Y_Center = center(x,y,w,h)\n",
    "                    X1_Center,Y1_Center= center(x1,y1,w1,h1)\n",
    "                    #dis = math.sqrt(((x+w//2)-(x1+w1//2))**2+((y+h//2)-(y1+h//2))**2)\n",
    "                    dis = euclidienne(X_Center,Y_Center,X1_Center,Y1_Center)\n",
    "                    if dis<seuil:\n",
    "                        zonneAffec = True\n",
    "                if zonneAffec :\n",
    "                    cv2.rectangle(frame,(x,y),(x+w,y+h),(0,0,255),2)\n",
    "                    #cv2.circle(frame,(x+int(w/2),y+int(h/2)),3,(255,255,255),3)\n",
    "                    cv2.line(frame,(x+int(w/2),y+int(h/2)),(x1+int(w1/2),y1+int(h1/2)),(255,255,255),1)\n",
    "                    #cv2.putText(frame, 'Zone d affectation', (x+10, y+20),cv2.FONT_HERSHEY_SIMPLEX, 0.7, (0, 0, 255), 2)\n",
    "                    #cv2.line(frame,(X_Center,Y_Center),(X1_Center,Y1_Center),(0,0,255),thickness=2)\n",
    "                else :\n",
    "                    cv2.rectangle(frame,(x,y),(x+w,y+h),(255,0,0),2)\n",
    "        cv2.imshow(\"People Walking\",frame)\n",
    "        if cv2.waitKey(25) == ord('q'):\n",
    "            break\n",
    "    else:\n",
    "        break\n",
    "        \n",
    "cap.release()\n",
    "cv2.destroyAllWindows()\n"
   ]
  }
 ],
 "metadata": {
  "kernelspec": {
   "display_name": "Python 3 (ipykernel)",
   "language": "python",
   "name": "python3"
  },
  "language_info": {
   "codemirror_mode": {
    "name": "ipython",
    "version": 3
   },
   "file_extension": ".py",
   "mimetype": "text/x-python",
   "name": "python",
   "nbconvert_exporter": "python",
   "pygments_lexer": "ipython3",
   "version": "3.9.7"
  }
 },
 "nbformat": 4,
 "nbformat_minor": 5
}
