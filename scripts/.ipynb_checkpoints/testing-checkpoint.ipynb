{
 "cells": [
  {
   "cell_type": "code",
   "execution_count": null,
   "id": "fe9c5895",
   "metadata": {},
   "outputs": [],
   "source": [
    "import cv2\n",
    " \n",
    "# Read video frames\n",
    "cap = cv2.VideoCapture('peopleWalking.mp4')\n",
    " \n",
    "while True:\n",
    "    # Read video frame by frame\n",
    "    read_ok, img = cap.read()\n",
    "    cv2.imshow(\"Image\", img)\n",
    " \n",
    "    # Save last frame of the video as image using <a href=\"https://thinkinfi.com/basic-python-opencv-tutorial-function/\" data-internallinksmanager029f6b8e52c=\"14\" title=\"OpenCV\" target=\"_blank\" rel=\"noopener\">OpenCV</a>\n",
    "    cv2.imwrite(\"last_frame.jpg\", img)\n",
    " \n",
    "    # Close video window by pressing 'x'\n",
    "    if cv2.waitKey(1) & 0xFF == ord('x'):\n",
    "        break\n",
    "cap.release()\n",
    "cv2.destroyAllWindows()\n"
   ]
  }
 ],
 "metadata": {
  "kernelspec": {
   "display_name": "Python 3 (ipykernel)",
   "language": "python",
   "name": "python3"
  },
  "language_info": {
   "codemirror_mode": {
    "name": "ipython",
    "version": 3
   },
   "file_extension": ".py",
   "mimetype": "text/x-python",
   "name": "python",
   "nbconvert_exporter": "python",
   "pygments_lexer": "ipython3",
   "version": "3.9.7"
  }
 },
 "nbformat": 4,
 "nbformat_minor": 5
}
