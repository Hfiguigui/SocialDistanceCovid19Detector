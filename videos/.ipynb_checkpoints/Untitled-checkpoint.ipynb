{
 "cells": [
  {
   "cell_type": "code",
   "execution_count": 10,
   "id": "1a368425",
   "metadata": {},
   "outputs": [],
   "source": [
    "import cv2\n",
    "cap = cv2.VideoCapture(\"peopleWalking.mp4\")\n",
    "while True:\n",
    "    ret,frame = cap.read()\n",
    "    if ret == True:\n",
    "        cv2.imshow(\"video\",frame)\n",
    "        key = cv2.waitKey(100)\n",
    "        if key ==27:\n",
    "            break\n",
    "    else:\n",
    "        break\n",
    "cv2.destroyAllWindows()\n",
    "cap.release()"
   ]
  },
  {
   "cell_type": "code",
   "execution_count": 2,
   "id": "bd047f01",
   "metadata": {},
   "outputs": [],
   "source": [
    "import cv2\n",
    "import math\n",
    "cap = cv2.VideoCapture('../videos/peopleWalking.mp4')\n",
    "fullBody = cv2.CascadeClassifier('../haar/haarcascade_fullbody.xml')\n",
    "while cap.isOpened():\n",
    "    ret,frame = cap.read()\n",
    "    if ret == True:\n",
    "        bodies = fullBody.detectMultiScale(frame,1.8,1)\n",
    "        for(x,y,w,h) in bodies:\n",
    "            cv2.rectangle(frame,(x,y),(x+w,y+w),(0,255,0),1)\n",
    "        cv2.imshow(\"People Walking\",frame)\n",
    "        key = cv2.waitKey(1)\n",
    "        if key==27:\n",
    "            break\n",
    "    else:\n",
    "        break\n",
    "cv2.destroyAllWindows()         \n",
    "cap.release()\n"
   ]
  },
  {
   "cell_type": "code",
   "execution_count": 1,
   "id": "7c5fc207",
   "metadata": {},
   "outputs": [
    {
     "name": "stdout",
     "output_type": "stream",
     "text": [
      " donner le seuil à respecter : 122\n"
     ]
    },
    {
     "ename": "NameError",
     "evalue": "name 'center' is not defined",
     "output_type": "error",
     "traceback": [
      "\u001b[1;31m---------------------------------------------------------------------------\u001b[0m",
      "\u001b[1;31mNameError\u001b[0m                                 Traceback (most recent call last)",
      "\u001b[1;32m~\\AppData\\Local\\Temp/ipykernel_17404/2361145536.py\u001b[0m in \u001b[0;36m<module>\u001b[1;34m\u001b[0m\n\u001b[0;32m     13\u001b[0m             \u001b[1;32mfor\u001b[0m\u001b[1;33m(\u001b[0m\u001b[0mx1\u001b[0m\u001b[1;33m,\u001b[0m\u001b[0my1\u001b[0m\u001b[1;33m,\u001b[0m\u001b[0mw1\u001b[0m\u001b[1;33m,\u001b[0m\u001b[0mh1\u001b[0m\u001b[1;33m)\u001b[0m \u001b[1;32min\u001b[0m \u001b[0mbodies\u001b[0m\u001b[1;33m:\u001b[0m\u001b[1;33m\u001b[0m\u001b[1;33m\u001b[0m\u001b[0m\n\u001b[0;32m     14\u001b[0m                 \u001b[1;32mif\u001b[0m \u001b[0mx\u001b[0m\u001b[1;33m!=\u001b[0m\u001b[0mx1\u001b[0m \u001b[1;32mand\u001b[0m \u001b[0my\u001b[0m\u001b[1;33m!=\u001b[0m\u001b[0my1\u001b[0m\u001b[1;33m:\u001b[0m\u001b[1;33m\u001b[0m\u001b[1;33m\u001b[0m\u001b[0m\n\u001b[1;32m---> 15\u001b[1;33m                     \u001b[0mX_Center\u001b[0m\u001b[1;33m,\u001b[0m\u001b[0mY_Center\u001b[0m \u001b[1;33m=\u001b[0m \u001b[0mcenter\u001b[0m\u001b[1;33m(\u001b[0m\u001b[0mx\u001b[0m\u001b[1;33m,\u001b[0m\u001b[0my\u001b[0m\u001b[1;33m,\u001b[0m\u001b[0mw\u001b[0m\u001b[1;33m,\u001b[0m\u001b[0mh\u001b[0m\u001b[1;33m)\u001b[0m\u001b[1;33m\u001b[0m\u001b[1;33m\u001b[0m\u001b[0m\n\u001b[0m\u001b[0;32m     16\u001b[0m                     \u001b[0mX1_Center\u001b[0m\u001b[1;33m,\u001b[0m\u001b[0mY1_Center\u001b[0m\u001b[1;33m=\u001b[0m \u001b[0mcenter\u001b[0m\u001b[1;33m(\u001b[0m\u001b[0mx1\u001b[0m\u001b[1;33m,\u001b[0m\u001b[0my1\u001b[0m\u001b[1;33m,\u001b[0m\u001b[0mw1\u001b[0m\u001b[1;33m,\u001b[0m\u001b[0mh1\u001b[0m\u001b[1;33m)\u001b[0m\u001b[1;33m\u001b[0m\u001b[1;33m\u001b[0m\u001b[0m\n\u001b[0;32m     17\u001b[0m                     \u001b[0mdis\u001b[0m \u001b[1;33m=\u001b[0m \u001b[0meuclidienne\u001b[0m\u001b[1;33m(\u001b[0m\u001b[0mX_Center\u001b[0m\u001b[1;33m,\u001b[0m\u001b[0mY_Center\u001b[0m\u001b[1;33m,\u001b[0m\u001b[0mX1_Center\u001b[0m\u001b[1;33m,\u001b[0m\u001b[0mY1_Center\u001b[0m\u001b[1;33m)\u001b[0m\u001b[1;33m\u001b[0m\u001b[1;33m\u001b[0m\u001b[0m\n",
      "\u001b[1;31mNameError\u001b[0m: name 'center' is not defined"
     ]
    }
   ],
   "source": [
    "import cv2\n",
    "import math\n",
    "cap = cv2.VideoCapture('../videos/ppl.mp4')\n",
    "fullBody = cv2.CascadeClassifier('../haar/haarcascade_fullbody.xml')\n",
    "seuil = float(input(' donner le seuil à respecter : '))\n",
    "while cap.isOpened():\n",
    "    ret,frame = cap.read()\n",
    "    if ret == True:\n",
    "        bodies = fullBody.detectMultiScale(frame,1.8,1)\n",
    "        for(x,y,w,h) in bodies:\n",
    "            dis=0\n",
    "            zonneAffec = False\n",
    "            for(x1,y1,w1,h1) in bodies:\n",
    "                if x!=x1 and y!=y1:\n",
    "                    X_Center,Y_Center = center(x,y,w,h)\n",
    "                    X1_Center,Y1_Center= center(x1,y1,w1,h1)\n",
    "                    dis = euclidienne(X_Center,Y_Center,X1_Center,Y1_Center)\n",
    "                    #dis = math.sqrt(((x+w//2)-(x1+w1//2))**2+((y+h//2)-(y1+h//2))**2)\n",
    "                    if dis<seuil:\n",
    "                        zonneAffec = True\n",
    "                if zonneAffec :\n",
    "                    cv2.rectangle(frame,(x,y),(x+w,y+h),(0,0,255),2)\n",
    "                else :\n",
    "                    cv2.rectangle(frame,(x,y),(x+w,y+h),(255,0,0),2)\n",
    "        cv2.imshow(\"People Walking\",frame)\n",
    "        if cv2.waitKey(25) == ord('q'):\n",
    "            break\n",
    "    else:\n",
    "        break\n",
    "        \n",
    "cap.release()\n",
    "cv2.destroyAllWindows()"
   ]
  },
  {
   "cell_type": "code",
   "execution_count": null,
   "id": "451aa5fb",
   "metadata": {},
   "outputs": [],
   "source": [
    "import cv2\n",
    "import numpy as np\n",
    "import datetime\n",
    "from matplotlib import pyplot as plt\n",
    "hog = cv2.HOGDescriptor()\n",
    "hog.setSVMDetector(cv2.HOGDescriptor_getDefaultPeopleDetector())\n",
    "#img = cv2.imread('girl2.jpg')    \n",
    "cap = cv2.VideoCapture('ppl.mp4')\n",
    "line_length_prev = 0\n",
    "line_length_curr = 0\n",
    "fourcc = cv2.VideoWriter_fourcc(*'XVID')\n",
    "out = cv2.VideoWriter('ppl.mp4',fourcc,20.0,(1280,720))\n",
    "while True:\n",
    "    ret,img = cap.read()\n",
    "    try:\n",
    "        boxes, weights = hog.detectMultiScale(img,winStride=(8,8)) \n",
    "    except:\n",
    "        pass \n",
    "    else:\n",
    "        for (x, y, w, h) in boxes:\n",
    "            if w > 110:\n",
    "                cv2.rectangle(img, (x, y), (x+w, y+h),(0, 255, 0), 2)\n",
    "                cv2.circle(img,(x+int(w/2),y+int(h/2)),3,(0,0,255),3)\n",
    "        if len(boxes)>1:\n",
    "            x1,y1,w1,h1 = boxes[0]\n",
    "            x2,y2,w2,h2 = boxes[1]\n",
    "            \n",
    "            if w1 > 110 and w2>110:\n",
    "                line_length_prev = line_length_curr\n",
    "                line_length_curr = int(((x1+(w1/2)-x2-(w2/2))**2 + (y1+(h1/2)-y2-(h2/2))**2)**0.5)\n",
    "                if line_length_curr < line_length_prev/2:\n",
    "                    continue\n",
    "                cv2.line(img,(x1+int(w1/2),y1+int(h1/2)),(x2+int(w2/2),y2+int(h2/2)),(255,0,0),3)\n",
    "                min = (h2, h1) [h1 < h2] \n",
    "                max = (h1, h2) [h1 < h2] \n",
    "                cv2.putText(img,\"current distance between them : \"+str(line_length_curr),(10,20),cv2.FONT_HERSHEY_SIMPLEX,1,(0,0,255),3)\n",
    "                cv2.putText(img,'minor object height : '+str(min),(10,60),cv2.FONT_HERSHEY_SIMPLEX,1,(0,0,255),3)\n",
    "                cv2.putText(img,'major object height : '+str(max),(10,100),cv2.FONT_HERSHEY_SIMPLEX,1,(0,0,255),3)\n",
    "                if line_length_curr < max:\n",
    "                    cv2.putText(img,'too close!!',(600,300),cv2.FONT_HERSHEY_SIMPLEX,2,(0,0,255),3)\n",
    "    finally:\n",
    "        if ret==True:\n",
    "            cv2.imshow('frame',img)\n",
    "            out.write(img)\n",
    "    if cv2.waitKey(1)==27:\n",
    "        break\n",
    "cap.release()\n",
    "out.release()\n",
    "cv2.destroyAllWindows()"
   ]
  },
  {
   "cell_type": "code",
   "execution_count": null,
   "id": "032c1728",
   "metadata": {},
   "outputs": [],
   "source": [
    "import cv2\n",
    "import numpy as np\n"
   ]
  },
  {
   "cell_type": "code",
   "execution_count": null,
   "id": "0ab63189",
   "metadata": {},
   "outputs": [],
   "source": [
    "import datetime\n"
   ]
  },
  {
   "cell_type": "code",
   "execution_count": null,
   "id": "58d236fb",
   "metadata": {},
   "outputs": [],
   "source": []
  }
 ],
 "metadata": {
  "kernelspec": {
   "display_name": "Python 3 (ipykernel)",
   "language": "python",
   "name": "python3"
  },
  "language_info": {
   "codemirror_mode": {
    "name": "ipython",
    "version": 3
   },
   "file_extension": ".py",
   "mimetype": "text/x-python",
   "name": "python",
   "nbconvert_exporter": "python",
   "pygments_lexer": "ipython3",
   "version": "3.9.7"
  }
 },
 "nbformat": 4,
 "nbformat_minor": 5
}
